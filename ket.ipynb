{
 "cells": [
  {
   "cell_type": "code",
   "execution_count": null,
   "metadata": {},
   "outputs": [],
   "source": [
    "\"\"\"\n",
    "The following is a class which will create vectors (kets and bras) for use in the Pockel Cells.ipynb file to ensure that the \n",
    "code becomes more modular.\n",
    "\n",
    "\n",
    "Started       June 28, 2019\n",
    "Last Updated: July 1st, 2019\n",
    "\n",
    "Planned Additions:\n",
    "Given that bras and kets essentially have the same structure there should be methods incorporated in the class structure to account for whether the vector is\n",
    "a bra or a ket.\n",
    "\"\"\"\n",
    "\n",
    "class vector:\n",
    "    # the following creates the vector as a class structure\n",
    "    def __init__(self,ver,hor,scal,basis,status):\n",
    "        self.ver = ver\n",
    "        self.hor = hor\n",
    "        self.co = scal\n",
    "        self.basis = basis\n",
    "        self.status = status\n",
    "       \n",
    "        \n",
    "    def scale_ket(self,c):\n",
    "        self.co = self.co * c\n",
    "        \n",
    "    def print_ket(self):\n",
    "        print (\"|\"+str(self.ver)+\",\"+str(self.hor)+\">\")\n",
    "        "
   ]
  }
 ],
 "metadata": {
  "kernelspec": {
   "display_name": "Python 3",
   "language": "python",
   "name": "python3"
  },
  "language_info": {
   "codemirror_mode": {
    "name": "ipython",
    "version": 3
   },
   "file_extension": ".py",
   "mimetype": "text/x-python",
   "name": "python",
   "nbconvert_exporter": "python",
   "pygments_lexer": "ipython3",
   "version": "3.6.8"
  }
 },
 "nbformat": 4,
 "nbformat_minor": 2
}
